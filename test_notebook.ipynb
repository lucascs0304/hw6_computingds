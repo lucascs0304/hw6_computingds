{
 "cells": [
  {
   "cell_type": "code",
   "execution_count": 1,
   "metadata": {},
   "outputs": [],
   "source": [
    "# Importing the functions\n",
    "from lib.a_load import loader\n",
    "from lib.b_clean_nan import nan_dropper\n",
    "from lib.c_fill_means import nan_filler\n",
    "from lib.d_transformer import transformer\n",
    "from lib.ef_model import model"
   ]
  },
  {
   "cell_type": "code",
   "execution_count": 9,
   "metadata": {},
   "outputs": [
    {
     "ename": "AttributeError",
     "evalue": "'str' object has no attribute 'file'",
     "output_type": "error",
     "traceback": [
      "\u001b[0;31m---------------------------------------------------------------------------\u001b[0m",
      "\u001b[0;31mAttributeError\u001b[0m                            Traceback (most recent call last)",
      "\u001b[1;32m/Users/lucascosta/Library/CloudStorage/OneDrive-Pessoal/Mestrado_DSDM/Term_1/Computing_for_Data_Science/hw6/hw6_computingds/test_notebook.ipynb Cell 2\u001b[0m in \u001b[0;36m<cell line: 1>\u001b[0;34m()\u001b[0m\n\u001b[0;32m----> <a href='vscode-notebook-cell:/Users/lucascosta/Library/CloudStorage/OneDrive-Pessoal/Mestrado_DSDM/Term_1/Computing_for_Data_Science/hw6/hw6_computingds/test_notebook.ipynb#W1sZmlsZQ%3D%3D?line=0'>1</a>\u001b[0m df \u001b[39m=\u001b[39m loader\u001b[39m.\u001b[39;49mload(\u001b[39m\"\u001b[39;49m\u001b[39msample_diabetes_mellitus_data.csv\u001b[39;49m\u001b[39m\"\u001b[39;49m)\n",
      "File \u001b[0;32m~/Library/CloudStorage/OneDrive-Pessoal/Mestrado_DSDM/Term_1/Computing_for_Data_Science/hw6/hw6_computingds/lib/a_load.py:23\u001b[0m, in \u001b[0;36mloader.load\u001b[0;34m(self)\u001b[0m\n\u001b[1;32m     11\u001b[0m \u001b[39mdef\u001b[39;00m \u001b[39mload\u001b[39m(\u001b[39mself\u001b[39m):\n\u001b[1;32m     13\u001b[0m     \u001b[39m'''\u001b[39;00m\n\u001b[1;32m     14\u001b[0m \u001b[39m    Read database.\u001b[39;00m\n\u001b[1;32m     15\u001b[0m \u001b[39m    \u001b[39;00m\n\u001b[0;32m   (...)\u001b[0m\n\u001b[1;32m     20\u001b[0m \u001b[39m        df: database in pandas format\u001b[39;00m\n\u001b[1;32m     21\u001b[0m \u001b[39m    '''\u001b[39;00m\n\u001b[0;32m---> 23\u001b[0m     \u001b[39mself\u001b[39m\u001b[39m.\u001b[39mdf \u001b[39m=\u001b[39m pd\u001b[39m.\u001b[39mread_csv(\u001b[39mself\u001b[39;49m\u001b[39m.\u001b[39;49mfile, index_col\u001b[39m=\u001b[39m\u001b[39m0\u001b[39m)\n",
      "\u001b[0;31mAttributeError\u001b[0m: 'str' object has no attribute 'file'"
     ]
    }
   ],
   "source": [
    "df = loader.load(\"sample_diabetes_mellitus_data.csv\")"
   ]
  },
  {
   "cell_type": "code",
   "execution_count": null,
   "metadata": {},
   "outputs": [],
   "source": []
  }
 ],
 "metadata": {
  "kernelspec": {
   "display_name": "Python 3.8.9 64-bit",
   "language": "python",
   "name": "python3"
  },
  "language_info": {
   "codemirror_mode": {
    "name": "ipython",
    "version": 3
   },
   "file_extension": ".py",
   "mimetype": "text/x-python",
   "name": "python",
   "nbconvert_exporter": "python",
   "pygments_lexer": "ipython3",
   "version": "3.8.9"
  },
  "orig_nbformat": 4,
  "vscode": {
   "interpreter": {
    "hash": "31f2aee4e71d21fbe5cf8b01ff0e069b9275f58929596ceb00d14d90e3e16cd6"
   }
  }
 },
 "nbformat": 4,
 "nbformat_minor": 2
}
